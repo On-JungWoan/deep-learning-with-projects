{
  "nbformat": 4,
  "nbformat_minor": 0,
  "metadata": {
    "colab": {
      "name": "03_MNIST.ipynb",
      "provenance": [],
      "collapsed_sections": []
    },
    "kernelspec": {
      "name": "python3",
      "display_name": "Python 3"
    },
    "language_info": {
      "name": "python"
    },
    "accelerator": "GPU",
    "gpuClass": "standard"
  },
  "cells": [
    {
      "cell_type": "markdown",
      "source": [
        "## Library"
      ],
      "metadata": {
        "id": "07CPX6ke-xgP"
      }
    },
    {
      "cell_type": "code",
      "source": [
        "import torch\n",
        "import torch.nn as nn\n",
        "import torch.nn.functional as F\n",
        "import torch.optim as optim\n",
        "from torchvision import datasets, transforms\n",
        "\n",
        "import matplotlib.pyplot as plt"
      ],
      "metadata": {
        "id": "becOBJG1-2Pl"
      },
      "execution_count": null,
      "outputs": []
    },
    {
      "cell_type": "code",
      "source": [
        "from google.colab import drive\n",
        "\n",
        "drive.mount('/content/drive')"
      ],
      "metadata": {
        "colab": {
          "base_uri": "https://localhost:8080/"
        },
        "id": "KE_E2Ey7BzhB",
        "outputId": "eb5d774f-0a2e-4c9e-8d6b-08cbafc92ffd"
      },
      "execution_count": null,
      "outputs": [
        {
          "output_type": "stream",
          "name": "stdout",
          "text": [
            "Mounted at /content/drive\n"
          ]
        }
      ]
    },
    {
      "cell_type": "markdown",
      "source": [
        "## 분석 환경 설정"
      ],
      "metadata": {
        "id": "I8UWID9n_XfH"
      }
    },
    {
      "cell_type": "code",
      "source": [
        "is_cuda = torch.cuda.is_available()\n",
        "device = torch.device('cuda' if is_cuda else 'cpu')\n",
        "\n",
        "print('Cuda Device :', device)"
      ],
      "metadata": {
        "colab": {
          "base_uri": "https://localhost:8080/"
        },
        "id": "Fd9Sx74h_OvB",
        "outputId": "c60ce23b-8ec6-4430-f8c4-79d5a2708142"
      },
      "execution_count": null,
      "outputs": [
        {
          "output_type": "stream",
          "name": "stdout",
          "text": [
            "Cuda Device : cuda\n"
          ]
        }
      ]
    },
    {
      "cell_type": "markdown",
      "source": [
        "## HyperParameter 지정"
      ],
      "metadata": {
        "id": "rFVP2fATAQ3J"
      }
    },
    {
      "cell_type": "code",
      "source": [
        "batch_size = 50\n",
        "epoch_num = 15\n",
        "learning_rate = 0.0001"
      ],
      "metadata": {
        "id": "tv8aHe-jARXc"
      },
      "execution_count": null,
      "outputs": []
    },
    {
      "cell_type": "markdown",
      "source": [
        "## 데이터 불러오기"
      ],
      "metadata": {
        "id": "kYsnk6kFBMbu"
      }
    },
    {
      "cell_type": "code",
      "source": [
        "train_data = datasets.MNIST(root = '/content/drive/MyDrive/MNIST', train = True, download = False, transform = transforms.ToTensor())\n",
        "test_data = datasets.MNIST(root = '/content/drive/MyDrive/MNIST', train = False, transform = transforms.ToTensor())"
      ],
      "metadata": {
        "id": "U6If-CWEBM2q"
      },
      "execution_count": null,
      "outputs": []
    },
    {
      "cell_type": "code",
      "source": [
        "print(len(train_data), len(test_data))"
      ],
      "metadata": {
        "colab": {
          "base_uri": "https://localhost:8080/"
        },
        "id": "0B4Y0S58DoqS",
        "outputId": "d04adcfb-73fa-4920-c314-319719a36687"
      },
      "execution_count": null,
      "outputs": [
        {
          "output_type": "stream",
          "name": "stdout",
          "text": [
            "60000 10000\n"
          ]
        }
      ]
    },
    {
      "cell_type": "code",
      "source": [
        "image, label = train_data[0]\n",
        "\n",
        "plt.imshow(image.squeeze().numpy(), cmap = 'gray')\n",
        "plt.title('label : %s' % label)\n",
        "plt.show()"
      ],
      "metadata": {
        "colab": {
          "base_uri": "https://localhost:8080/",
          "height": 281
        },
        "id": "wNSVNozXD0pY",
        "outputId": "a0e4ad64-1e50-4a05-e1b0-30d0a20c351e"
      },
      "execution_count": null,
      "outputs": [
        {
          "output_type": "display_data",
          "data": {
            "text/plain": [
              "<Figure size 432x288 with 1 Axes>"
            ],
            "image/png": "[encoded data removed]"
          },
          "metadata": {
            "needs_background": "light"
          }
        }
      ]
    },
    {
      "cell_type": "markdown",
      "source": [
        "## 미니 배치 구성"
      ],
      "metadata": {
        "id": "jHNUu4AZENxE"
      }
    },
    {
      "cell_type": "code",
      "source": [
        "train_loader = torch.utils.data.DataLoader(dataset = train_data, \n",
        "                                           batch_size = batch_size, shuffle = True)\n",
        "test_loader  = torch.utils.data.DataLoader(dataset = test_data, \n",
        "                                           batch_size = batch_size, shuffle = True)\n",
        "\n",
        "first_batch = train_loader.__iter__().__next__()\n",
        "print('{:15s} | {:<25s} | {}'.format('name', 'type', 'size'))\n",
        "print('{:15s} | {:<25s} | {}'.format('Num of Batch', '', len(train_loader)))\n",
        "print('{:15s} | {:<25s} | {}'.format('first_batch', str(type(first_batch)), len(first_batch)))\n",
        "print('{:15s} | {:<25s} | {}'.format('first_batch[0]', str(type(first_batch[0])), first_batch[0].shape))\n",
        "print('{:15s} | {:<25s} | {}'.format('first_batch[1]', str(type(first_batch[1])), first_batch[1].shape))"
      ],
      "metadata": {
        "colab": {
          "base_uri": "https://localhost:8080/"
        },
        "id": "hqThSjKWEtnW",
        "outputId": "55294391-80cd-47d0-89c1-1630ab1171a7"
      },
      "execution_count": null,
      "outputs": [
        {
          "output_type": "stream",
          "name": "stdout",
          "text": [
            "name            | type                      | size\n",
            "Num of Batch    |                           | 1200\n",
            "first_batch     | <class 'list'>            | 2\n",
            "first_batch[0]  | <class 'torch.Tensor'>    | torch.Size([50, 1, 28, 28])\n",
            "first_batch[1]  | <class 'torch.Tensor'>    | torch.Size([50])\n"
          ]
        }
      ]
    },
    {
      "cell_type": "code",
      "source": [
        "print('{:23s} |    {}'.format('first_batch[0][0]', first_batch[0][0].shape))\n",
        "print('{:23s} |    {}'.format('first_batch[0][0][0]', first_batch[0][0][0].shape))"
      ],
      "metadata": {
        "colab": {
          "base_uri": "https://localhost:8080/"
        },
        "id": "SZase4hsFtlq",
        "outputId": "44767964-c8ea-4ac5-fbbd-e316d0c5522b"
      },
      "execution_count": null,
      "outputs": [
        {
          "output_type": "stream",
          "name": "stdout",
          "text": [
            "first_batch[0][0]       |    torch.Size([1, 28, 28])\n",
            "first_batch[0][0][0]    |    torch.Size([28, 28])\n"
          ]
        }
      ]
    },
    {
      "cell_type": "code",
      "source": [
        "plt.imshow(first_batch[0][0][0])\n",
        "plt.title('label : %s' % first_batch[1][0])\n",
        "plt.show()"
      ],
      "metadata": {
        "colab": {
          "base_uri": "https://localhost:8080/",
          "height": 281
        },
        "id": "z4Xw0Rs5FGuG",
        "outputId": "47463042-3eec-4961-de9e-7da7131db9c7"
      },
      "execution_count": null,
      "outputs": [
        {
          "output_type": "display_data",
          "data": {
            "text/plain": [
              "<Figure size 432x288 with 1 Axes>"
            ],
            "image/png": "[encoded data removed]"
          },
          "metadata": {
            "needs_background": "light"
          }
        }
      ]
    },
    {
      "cell_type": "markdown",
      "source": [
        "## CNN 구조 설계"
      ],
      "metadata": {
        "id": "olu52GqyYchw"
      }
    },
    {
      "cell_type": "code",
      "source": [
        "class CNN(nn.Module):\n",
        "  def __init__(self):\n",
        "    super(CNN, self).__init__()\n",
        "    self.conv1 = nn.Conv2d(1, 32, 3, 1)\n",
        "    self.conv2 = nn.Conv2d(32, 64, 3, 1)\n",
        "    self.dropout1 = nn.Dropout2d(0.25)\n",
        "    self.dropout2 = nn.Dropout2d(0.5)\n",
        "    self.fc1 = nn.Linear(9216, 128)\n",
        "    self.fc2 = nn.Linear(128, 10)\n",
        "\n",
        "  def forward(self, x):\n",
        "    x = self.conv1(x)         # conv1 통과\n",
        "    x = F.relu(x)             # ReLU 활성함수 적용\n",
        "    x = self.conv2(x)         # conv2 통과\n",
        "    x = F.relu(x)             # ReLU 활성함수 적용\n",
        "\n",
        "    x = F.max_pool2d(x,2)     # 2*2 filter로 max-pooling\n",
        "    x = self.dropout1(x)      # 사전에 정의한 0.25 확률의 dropout1을 반영\n",
        "    x = torch.flatten(x, 1)   # 고차원 torch를 1차원 벡터로 변환 = 64*12*12\n",
        "    x = self.fc1(x)           # 9216 크기의 벡터를 128 크기의 벡터로 학습하는 fc1 통과\n",
        "    x = F.relu(x)             # ReLU 활성함수 적용\n",
        "    x = self.dropout2(x)      # 사전에 정의한 0.5 확률의 dropout1을 반영\n",
        "    x = self.fc2(x)           # 128 크기의 벡터를 10 크기의 벡터로 학습하는 fc2 통과\n",
        "\n",
        "    # 최종 출력값 : log-softmax를 사용한다.\n",
        "    # softmax가 아닌 log_softmax를 사용하면 연산 속도를 높일 수 있다.\n",
        "    output = F.log_softmax(x, dim=1)\n",
        "\n",
        "    return output"
      ],
      "metadata": {
        "id": "fDPp887sETVC"
      },
      "execution_count": null,
      "outputs": []
    },
    {
      "cell_type": "markdown",
      "source": [
        "## Optimizer 및 손실 함수 정의"
      ],
      "metadata": {
        "id": "Qkg1W6TZa_Up"
      }
    },
    {
      "cell_type": "code",
      "source": [
        "model = CNN().to(device)\n",
        "optimizer = optim.Adam(model.parameters(), lr = learning_rate)\n",
        "criterion = nn.CrossEntropyLoss( )"
      ],
      "metadata": {
        "id": "UYB7XNljbCGF"
      },
      "execution_count": null,
      "outputs": []
    },
    {
      "cell_type": "markdown",
      "source": [
        "## 모델 학습"
      ],
      "metadata": {
        "id": "KiALKJdzbV1p"
      }
    },
    {
      "cell_type": "code",
      "source": [
        "model.train()\n",
        "i = 1\n",
        "for epoch in range(epoch_num):\n",
        "    for data, target in train_loader:\n",
        "        data = data.to(device)\n",
        "        target = target.to(device)\n",
        "\n",
        "        # 이전 반복 시행에서 저장된 optimizer의 gradient를 초기화\n",
        "        optimizer.zero_grad()\n",
        "\n",
        "        # Feed Forward (미니 배치를 모델에 통과시킴)\n",
        "        output = model(data)\n",
        "        \n",
        "        # 손실함수를 통해 Gradient 계산\n",
        "        loss = criterion(output, target)\n",
        "        loss.backward()\n",
        "\n",
        "        # Gradient를 통해 모델의 가중치 업데이트\n",
        "        optimizer.step()\n",
        "\n",
        "        # 학습 1000번마다 손실함수 출력\n",
        "        if i % 1000 == 0:\n",
        "            print('Train Step: {}\\tLoss: {:.3f}'.format(i, loss.item()))\n",
        "        i += 1"
      ],
      "metadata": {
        "colab": {
          "base_uri": "https://localhost:8080/"
        },
        "id": "WGMxKixbbXeR",
        "outputId": "17f5cf0e-6ee3-4800-e8cc-54b642116e21"
      },
      "execution_count": null,
      "outputs": [
        {
          "output_type": "stream",
          "name": "stderr",
          "text": [
            "/usr/local/lib/python3.7/dist-packages/torch/nn/functional.py:1331: UserWarning: dropout2d: Received a 2-D input to dropout2d, which is deprecated and will result in an error in a future release. To retain the behavior and silence this warning, please use dropout instead. Note that dropout2d exists to provide channel-wise dropout on inputs with 2 spatial dimensions, a channel dimension, and an optional batch dimension (i.e. 3D or 4D inputs).\n",
            "  warnings.warn(warn_msg)\n"
          ]
        },
        {
          "output_type": "stream",
          "name": "stdout",
          "text": [
            "Train Step: 1000\tLoss: 0.213\n",
            "Train Step: 2000\tLoss: 0.252\n",
            "Train Step: 3000\tLoss: 0.057\n",
            "Train Step: 4000\tLoss: 0.216\n",
            "Train Step: 5000\tLoss: 0.008\n",
            "Train Step: 6000\tLoss: 0.085\n",
            "Train Step: 7000\tLoss: 0.018\n",
            "Train Step: 8000\tLoss: 0.020\n",
            "Train Step: 9000\tLoss: 0.014\n",
            "Train Step: 10000\tLoss: 0.072\n",
            "Train Step: 11000\tLoss: 0.007\n",
            "Train Step: 12000\tLoss: 0.019\n",
            "Train Step: 13000\tLoss: 0.091\n",
            "Train Step: 14000\tLoss: 0.069\n",
            "Train Step: 15000\tLoss: 0.172\n",
            "Train Step: 16000\tLoss: 0.071\n",
            "Train Step: 17000\tLoss: 0.088\n",
            "Train Step: 18000\tLoss: 0.016\n"
          ]
        }
      ]
    },
    {
      "cell_type": "markdown",
      "source": [
        "## 모델 평가"
      ],
      "metadata": {
        "id": "r2KePyF5dvYy"
      }
    },
    {
      "cell_type": "code",
      "source": [
        "model.eval()\n",
        "correct = 0\n",
        "for data, target in test_loader:\n",
        "#     data, target = Variable(data, volatile=True), Variable(target)\n",
        "    data = data.to(device)\n",
        "    target = target.to(device)\n",
        "    output = model(data)\n",
        "\n",
        "    # log-softmax 값이 가장 큰 인덱스를 예측값으로 저장.\n",
        "    prediction = output.data.max(1)[1]\n",
        "\n",
        "    \n",
        "    correct += prediction.eq(target.data).sum()\n",
        "\n",
        "print('Test set: Accuracy: {:.2f}%'.format(100. * correct / len(test_loader.dataset)))"
      ],
      "metadata": {
        "colab": {
          "base_uri": "https://localhost:8080/"
        },
        "id": "CjMGzTFWdw19",
        "outputId": "22eca88c-bf04-4626-97d6-add3171f06d8"
      },
      "execution_count": null,
      "outputs": [
        {
          "output_type": "stream",
          "name": "stderr",
          "text": [
            "/usr/local/lib/python3.7/dist-packages/torch/nn/functional.py:1331: UserWarning: dropout2d: Received a 2-D input to dropout2d, which is deprecated and will result in an error in a future release. To retain the behavior and silence this warning, please use dropout instead. Note that dropout2d exists to provide channel-wise dropout on inputs with 2 spatial dimensions, a channel dimension, and an optional batch dimension (i.e. 3D or 4D inputs).\n",
            "  warnings.warn(warn_msg)\n"
          ]
        },
        {
          "output_type": "stream",
          "name": "stdout",
          "text": [
            "Test set: Accuracy: 98.97%\n"
          ]
        }
      ]
    }
  ]
}