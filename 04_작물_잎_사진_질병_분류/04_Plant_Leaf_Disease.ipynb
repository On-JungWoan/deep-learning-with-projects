{
  "cells": [
    {
      "cell_type": "markdown",
      "id": "a512c742",
      "metadata": {
        "id": "a512c742"
      },
      "source": [
        "## 0. GPU 사용 가능 여부 확인"
      ]
    },
    {
      "cell_type": "code",
      "execution_count": 1,
      "id": "b20cdfee",
      "metadata": {
        "colab": {
          "base_uri": "https://localhost:8080/"
        },
        "id": "b20cdfee",
        "outputId": "4eee852d-6c1b-45f9-b539-cd52dee8d1bd"
      },
      "outputs": [
        {
          "output_type": "stream",
          "name": "stdout",
          "text": [
            "True\n"
          ]
        }
      ],
      "source": [
        "import torch\n",
        "print(torch.cuda.is_available())"
      ]
    },
    {
      "cell_type": "code",
      "execution_count": null,
      "id": "42007879",
      "metadata": {
        "colab": {
          "base_uri": "https://localhost:8080/"
        },
        "id": "42007879",
        "outputId": "e0c1229e-f422-4c93-cd32-9a2de93e5391"
      },
      "outputs": [
        {
          "output_type": "execute_result",
          "data": {
            "text/plain": [
              "[name: \"/device:CPU:0\"\n",
              " device_type: \"CPU\"\n",
              " memory_limit: 268435456\n",
              " locality {\n",
              " }\n",
              " incarnation: 17646647483852783068\n",
              " xla_global_id: -1, name: \"/device:GPU:0\"\n",
              " device_type: \"GPU\"\n",
              " memory_limit: 13916438528\n",
              " locality {\n",
              "   bus_id: 1\n",
              "   links {\n",
              "   }\n",
              " }\n",
              " incarnation: 13552905390601697581\n",
              " physical_device_desc: \"device: 0, name: Tesla T4, pci bus id: 0000:00:04.0, compute capability: 7.5\"\n",
              " xla_global_id: 416903419]"
            ]
          },
          "metadata": {},
          "execution_count": 2
        }
      ],
      "source": [
        "from tensorflow.python.client import device_lib\n",
        "device_lib.list_local_devices()"
      ]
    },
    {
      "cell_type": "markdown",
      "id": "cff27e9a",
      "metadata": {
        "id": "cff27e9a"
      },
      "source": [
        "## 1. 데이터 분할"
      ]
    },
    {
      "cell_type": "markdown",
      "source": [
        "### 1-0. 데이터 준비 (Colab에서 사용 시)"
      ],
      "metadata": {
        "id": "M2NRo5VYDhQD"
      },
      "id": "M2NRo5VYDhQD"
    },
    {
      "cell_type": "code",
      "source": [
        "# colab에서 사용시\n",
        "\n",
        "from google.colab import drive\n",
        "drive.mount('/content/drive')"
      ],
      "metadata": {
        "colab": {
          "base_uri": "https://localhost:8080/"
        },
        "id": "D2hSEfXvCMfQ",
        "outputId": "7919f99a-f75b-4b0d-c464-05b92dc6ffaf"
      },
      "id": "D2hSEfXvCMfQ",
      "execution_count": 2,
      "outputs": [
        {
          "output_type": "stream",
          "name": "stdout",
          "text": [
            "Mounted at /content/drive\n"
          ]
        }
      ]
    },
    {
      "cell_type": "code",
      "source": [
        "# 데이터 다운로드\n",
        "!gdown https://drive.google.com/uc?id=1uBY-JbXcPd-tikzFJcbwSR9_zEjYHHor\n",
        "!mv /content/dataset.zip /content/drive/MyDrive/04_작물_잎_질병/dataset\n",
        "\n",
        "# 압축 풀기\n",
        "%cd /content/drive/MyDrive/04_작물_잎_질병/dataset\n",
        "!unzip -qq \"/content/drive/MyDrive/04_작물_잎_질병/dataset/dataset.zip\""
      ],
      "metadata": {
        "id": "QKMYLN2nDGEA"
      },
      "id": "QKMYLN2nDGEA",
      "execution_count": null,
      "outputs": []
    },
    {
      "cell_type": "markdown",
      "id": "ce69929c",
      "metadata": {
        "id": "ce69929c"
      },
      "source": [
        "### 1-1. 데이터 분할을 위한 폴더 생성"
      ]
    },
    {
      "cell_type": "code",
      "execution_count": 3,
      "id": "d414e914",
      "metadata": {
        "id": "d414e914"
      },
      "outputs": [],
      "source": [
        "# laptop에서 작업 시\n",
        "# working_dir = \"D:/python_projects/deep-learning-with-projects/datasets/04_작물_잎_사진_질병_분류/\"\n",
        "\n",
        "# jnu pc에서 작업 시\n",
        "# working_dir = \"C:/Users/user/Downloads/\"\n",
        "\n",
        "# colab에서 작업 시\n",
        "working_dir = \"/content/drive/MyDrive/04_작물_잎_질병/\""
      ]
    },
    {
      "cell_type": "code",
      "execution_count": 85,
      "id": "19731552",
      "metadata": {
        "id": "19731552"
      },
      "outputs": [],
      "source": [
        "import os\n",
        "import shutil\n",
        "\n",
        "original_dataset_dir = working_dir + 'dataset'   \n",
        "classes_list = os.listdir(original_dataset_dir) \n",
        " \n",
        "base_dir = working_dir + 'splitted' \n",
        "# os.mkdir(base_dir)                                # 1회만 실행\n",
        " \n",
        "train_dir = os.path.join(base_dir, 'train') \n",
        "# os.mkdir(train_dir)                               # 1회만 실행\n",
        "validation_dir = os.path.join(base_dir, 'val')\n",
        "# os.mkdir(validation_dir)                          # 1회만 실행\n",
        "test_dir = os.path.join(base_dir, 'test')\n",
        "# os.mkdir(test_dir)                                # 1회만 실행\n",
        "\n",
        "# for cls in classes_list:     \n",
        "#     os.mkdir(os.path.join(train_dir, cls))        # 1회만 실행\n",
        "#     os.mkdir(os.path.join(validation_dir, cls))   # 1회만 실행\n",
        "#     os.mkdir(os.path.join(test_dir, cls))         # 1회만 실행"
      ]
    },
    {
      "cell_type": "markdown",
      "id": "b134b373",
      "metadata": {
        "id": "b134b373"
      },
      "source": [
        "### 1-2. 데이터 분할과 클래스별 데이터 수 확인"
      ]
    },
    {
      "cell_type": "code",
      "execution_count": 5,
      "id": "350650a0",
      "metadata": {
        "colab": {
          "base_uri": "https://localhost:8080/"
        },
        "id": "350650a0",
        "outputId": "d901e6b9-be2b-491f-e597-3f8701ea5c2c"
      },
      "outputs": [
        {
          "output_type": "stream",
          "name": "stdout",
          "text": [
            "Train size( Pepper,_bell___healthy ):  886\n",
            "Validation size( Pepper,_bell___healthy ):  295\n",
            "Test size( Pepper,_bell___healthy ):  295\n",
            "Train size( Grape___Esca_(Black_Measles) ):  829\n",
            "Validation size( Grape___Esca_(Black_Measles) ):  276\n",
            "Test size( Grape___Esca_(Black_Measles) ):  276\n",
            "Train size( Pepper,_bell___Bacterial_spot ):  598\n",
            "Validation size( Pepper,_bell___Bacterial_spot ):  199\n",
            "Test size( Pepper,_bell___Bacterial_spot ):  199\n",
            "Train size( Strawberry___healthy ):  273\n",
            "Validation size( Strawberry___healthy ):  91\n",
            "Test size( Strawberry___healthy ):  91\n",
            "Train size( Grape___Black_rot ):  708\n",
            "Validation size( Grape___Black_rot ):  236\n",
            "Test size( Grape___Black_rot ):  236\n",
            "Train size( Corn___Common_rust ):  715\n",
            "Validation size( Corn___Common_rust ):  238\n",
            "Test size( Corn___Common_rust ):  238\n",
            "Train size( Apple___Apple_scab ):  378\n",
            "Validation size( Apple___Apple_scab ):  126\n",
            "Test size( Apple___Apple_scab ):  126\n",
            "Train size( Potato___healthy ):  91\n",
            "Validation size( Potato___healthy ):  30\n",
            "Test size( Potato___healthy ):  30\n",
            "Train size( Potato___Late_blight ):  600\n",
            "Validation size( Potato___Late_blight ):  200\n",
            "Test size( Potato___Late_blight ):  200\n",
            "Train size( Cherry___healthy ):  512\n",
            "Validation size( Cherry___healthy ):  170\n",
            "Test size( Cherry___healthy ):  170\n",
            "Train size( Tomato___Bacterial_spot ):  1276\n",
            "Validation size( Tomato___Bacterial_spot ):  425\n",
            "Test size( Tomato___Bacterial_spot ):  425\n",
            "Train size( Apple___Black_rot ):  372\n",
            "Validation size( Apple___Black_rot ):  124\n",
            "Test size( Apple___Black_rot ):  124\n",
            "Train size( Cherry___Powdery_mildew ):  631\n",
            "Validation size( Cherry___Powdery_mildew ):  210\n",
            "Test size( Cherry___Powdery_mildew ):  210\n",
            "Train size( Corn___Cercospora_leaf_spot Gray_leaf_spot ):  307\n",
            "Validation size( Corn___Cercospora_leaf_spot Gray_leaf_spot ):  102\n",
            "Test size( Corn___Cercospora_leaf_spot Gray_leaf_spot ):  102\n",
            "Train size( Peach___healthy ):  216\n",
            "Validation size( Peach___healthy ):  72\n",
            "Test size( Peach___healthy ):  72\n",
            "Train size( Tomato___Early_blight ):  600\n",
            "Validation size( Tomato___Early_blight ):  200\n",
            "Test size( Tomato___Early_blight ):  200\n",
            "Train size( Tomato___Tomato_Yellow_Leaf_Curl_Virus ):  3214\n",
            "Validation size( Tomato___Tomato_Yellow_Leaf_Curl_Virus ):  1071\n",
            "Test size( Tomato___Tomato_Yellow_Leaf_Curl_Virus ):  1071\n",
            "Train size( Grape___Leaf_blight_(Isariopsis_Leaf_Spot) ):  645\n",
            "Validation size( Grape___Leaf_blight_(Isariopsis_Leaf_Spot) ):  215\n",
            "Test size( Grape___Leaf_blight_(Isariopsis_Leaf_Spot) ):  215\n",
            "Train size( Potato___Early_blight ):  600\n",
            "Validation size( Potato___Early_blight ):  200\n",
            "Test size( Potato___Early_blight ):  200\n",
            "Train size( Grape___healthy ):  253\n",
            "Validation size( Grape___healthy ):  84\n",
            "Test size( Grape___healthy ):  84\n",
            "Train size( Apple___Cedar_apple_rust ):  165\n",
            "Validation size( Apple___Cedar_apple_rust ):  55\n",
            "Test size( Apple___Cedar_apple_rust ):  55\n",
            "Train size( Corn___Northern_Leaf_Blight ):  591\n",
            "Validation size( Corn___Northern_Leaf_Blight ):  197\n",
            "Test size( Corn___Northern_Leaf_Blight ):  197\n",
            "Train size( Tomato___Septoria_leaf_spot ):  1062\n",
            "Validation size( Tomato___Septoria_leaf_spot ):  354\n",
            "Test size( Tomato___Septoria_leaf_spot ):  354\n",
            "Train size( Corn___healthy ):  697\n",
            "Validation size( Corn___healthy ):  232\n",
            "Test size( Corn___healthy ):  232\n",
            "Train size( Strawberry___Leaf_scorch ):  665\n",
            "Validation size( Strawberry___Leaf_scorch ):  221\n",
            "Test size( Strawberry___Leaf_scorch ):  221\n",
            "Train size( Tomato___Tomato_mosaic_virus ):  223\n",
            "Validation size( Tomato___Tomato_mosaic_virus ):  74\n",
            "Test size( Tomato___Tomato_mosaic_virus ):  74\n",
            "Train size( Tomato___Leaf_Mold ):  571\n",
            "Validation size( Tomato___Leaf_Mold ):  190\n",
            "Test size( Tomato___Leaf_Mold ):  190\n",
            "Train size( Tomato___Late_blight ):  1145\n",
            "Validation size( Tomato___Late_blight ):  381\n",
            "Test size( Tomato___Late_blight ):  381\n",
            "Train size( Tomato___healthy ):  954\n",
            "Validation size( Tomato___healthy ):  318\n",
            "Test size( Tomato___healthy ):  318\n",
            "Train size( Tomato___Spider_mites Two-spotted_spider_mite ):  1005\n",
            "Validation size( Tomato___Spider_mites Two-spotted_spider_mite ):  335\n",
            "Test size( Tomato___Spider_mites Two-spotted_spider_mite ):  335\n",
            "Train size( Apple___healthy ):  987\n",
            "Validation size( Apple___healthy ):  329\n",
            "Test size( Apple___healthy ):  329\n",
            "Train size( Tomato___Target_Spot ):  842\n",
            "Validation size( Tomato___Target_Spot ):  280\n",
            "Test size( Tomato___Target_Spot ):  280\n",
            "Train size( Peach___Bacterial_spot ):  1378\n",
            "Validation size( Peach___Bacterial_spot ):  459\n",
            "Test size( Peach___Bacterial_spot ):  459\n"
          ]
        }
      ],
      "source": [
        "import math\n",
        " \n",
        "for cls in classes_list:\n",
        "    path = os.path.join(original_dataset_dir, cls) # dataset/~\n",
        "    fnames = os.listdir(path) # dataset/~/~\n",
        " \n",
        "    train_size = math.floor(len(fnames) * 0.6)\n",
        "    validation_size = math.floor(len(fnames) * 0.2)\n",
        "    test_size = math.floor(len(fnames) * 0.2)\n",
        "    \n",
        "    # Train 데이터\n",
        "    train_fnames = fnames[:train_size]\n",
        "    print(\"Train size(\",cls,\"): \", len(train_fnames))\n",
        "    for fname in train_fnames: \n",
        "        src = os.path.join(path, fname)\n",
        "        dst = os.path.join(os.path.join(train_dir, cls), fname)\n",
        "        shutil.copyfile(src, dst) # src(dataset/~/~)안에 있는 파일 내용을 dst(train 데이터 폴더) 경로로 복사\n",
        "\n",
        "    # Validation 데이터\n",
        "    validation_fnames = fnames[train_size:(validation_size + train_size)]\n",
        "    print(\"Validation size(\",cls,\"): \", len(validation_fnames))\n",
        "    for fname in validation_fnames:\n",
        "        src = os.path.join(path, fname)\n",
        "        dst = os.path.join(os.path.join(validation_dir, cls), fname)\n",
        "        shutil.copyfile(src, dst)\n",
        "        \n",
        "    test_fnames = fnames[(train_size+validation_size):(validation_size + train_size +test_size)]\n",
        "\n",
        "    # Test 데이터\n",
        "    print(\"Test size(\",cls,\"): \", len(test_fnames))\n",
        "    for fname in test_fnames:\n",
        "        src = os.path.join(path, fname)\n",
        "        dst = os.path.join(os.path.join(test_dir, cls), fname)\n",
        "        shutil.copyfile(src, dst)"
      ]
    },
    {
      "cell_type": "markdown",
      "id": "b6b40f35",
      "metadata": {
        "id": "b6b40f35"
      },
      "source": [
        "## 2. 베이스라인 모델 학습"
      ]
    },
    {
      "cell_type": "markdown",
      "id": "d7288d50",
      "metadata": {
        "id": "d7288d50"
      },
      "source": [
        "### 2-1. 베이스라인 모델 학습을 위한 준비"
      ]
    },
    {
      "cell_type": "code",
      "execution_count": 80,
      "id": "c28517c3",
      "metadata": {
        "id": "c28517c3"
      },
      "outputs": [],
      "source": [
        "import torch\n",
        "import os\n",
        " \n",
        "USE_CUDA = torch.cuda.is_available()\n",
        "DEVICE = torch.device(\"cuda\" if USE_CUDA else \"cpu\")\n",
        "\n",
        "BATCH_SIZE = 256 \n",
        "EPOCH = 30 "
      ]
    },
    {
      "cell_type": "code",
      "execution_count": 81,
      "id": "6124aba5",
      "metadata": {
        "id": "6124aba5"
      },
      "outputs": [],
      "source": [
        "import torchvision.transforms as transforms\n",
        "from torchvision.datasets import ImageFolder \n",
        " \n",
        "transform_base = transforms.Compose([transforms.Resize((64,64)), transforms.ToTensor()]) \n",
        "train_dataset = ImageFolder(root=working_dir + 'splitted/train', transform=transform_base) \n",
        "val_dataset = ImageFolder(root=working_dir + 'splitted/val', transform=transform_base)"
      ]
    },
    {
      "cell_type": "code",
      "execution_count": 82,
      "id": "cd3d1578",
      "metadata": {
        "id": "cd3d1578",
        "colab": {
          "base_uri": "https://localhost:8080/"
        },
        "outputId": "52ea32a3-36bd-4a9b-d3f4-eac45bcdede3"
      },
      "outputs": [
        {
          "output_type": "stream",
          "name": "stderr",
          "text": [
            "/usr/local/lib/python3.7/dist-packages/torch/utils/data/dataloader.py:560: UserWarning: This DataLoader will create 4 worker processes in total. Our suggested max number of worker in current system is 2, which is smaller than what this DataLoader is going to create. Please be aware that excessive worker creation might get DataLoader running slow or even freeze, lower the worker number to avoid potential slowness/freeze if necessary.\n",
            "  cpuset_checked))\n"
          ]
        }
      ],
      "source": [
        "from torch.utils.data import DataLoader\n",
        "\n",
        "train_loader = torch.utils.data.DataLoader(train_dataset, batch_size=BATCH_SIZE, shuffle=True, num_workers=4)\n",
        "val_loader = torch.utils.data.DataLoader(val_dataset, batch_size=BATCH_SIZE, shuffle=True, num_workers=4)"
      ]
    },
    {
      "cell_type": "markdown",
      "id": "9e94cec5",
      "metadata": {
        "id": "9e94cec5"
      },
      "source": [
        "### 2-2. 데이터 확인"
      ]
    },
    {
      "cell_type": "code",
      "execution_count": 83,
      "id": "9f01fa88",
      "metadata": {
        "id": "9f01fa88",
        "outputId": "ac09bdd4-7a38-4e7c-82f2-ceeea74ee322",
        "colab": {
          "base_uri": "https://localhost:8080/"
        }
      },
      "outputs": [
        {
          "output_type": "stream",
          "name": "stdout",
          "text": [
            "24677 8332\n"
          ]
        }
      ],
      "source": [
        "print(len(train_dataset), len(val_dataset))"
      ]
    },
    {
      "cell_type": "code",
      "execution_count": 86,
      "id": "7e087948",
      "metadata": {
        "id": "7e087948",
        "outputId": "20bdc591-eb11-4404-d2ba-63f985c13353",
        "colab": {
          "base_uri": "https://localhost:8080/"
        }
      },
      "outputs": [
        {
          "output_type": "stream",
          "name": "stdout",
          "text": [
            "0번 데이터의 0번 원소 :  torch.Size([3, 64, 64])\n",
            "0번 데이터의 1번 원소 :  0\n",
            "0번 데이터의 Label :  Pepper,_bell___healthy\n"
          ]
        }
      ],
      "source": [
        "print(\"0번 데이터의 0번 원소 : \",train_dataset[0][0].shape)\n",
        "print(\"0번 데이터의 1번 원소 : \", train_dataset[0][1])\n",
        "print(\"0번 데이터의 Label : \", classes_list[ train_dataset[0][1] ])"
      ]
    },
    {
      "cell_type": "code",
      "execution_count": 87,
      "id": "a190637c",
      "metadata": {
        "id": "a190637c",
        "outputId": "66924746-c20d-4d43-8d98-ef2ae01c9a24",
        "colab": {
          "base_uri": "https://localhost:8080/",
          "height": 482
        }
      },
      "outputs": [
        {
          "output_type": "display_data",
          "data": {
            "text/plain": [
              "<Figure size 576x576 with 1 Axes>"
            ],
            "image/png": "[encoded data removed]"
          },
          "metadata": {
            "needs_background": "light"
          }
        }
      ],
      "source": [
        "import matplotlib.pyplot as plt\n",
        "\n",
        "image = train_dataset[0][0].permute(1,2,0)\n",
        "label = classes_list[ train_dataset[0][1] ]\n",
        "\n",
        "plt.figure(figsize=(8,8))\n",
        "plt.axis('off')\n",
        "\n",
        "plt.imshow(image)\n",
        "plt.title(label)\n",
        "\n",
        "plt.show()"
      ]
    },
    {
      "cell_type": "code",
      "execution_count": 88,
      "id": "89147101",
      "metadata": {
        "id": "89147101",
        "outputId": "90a6e08c-6828-4554-b489-494e848b4be8",
        "colab": {
          "base_uri": "https://localhost:8080/"
        }
      },
      "outputs": [
        {
          "output_type": "stream",
          "name": "stderr",
          "text": [
            "/usr/local/lib/python3.7/dist-packages/torch/utils/data/dataloader.py:560: UserWarning: This DataLoader will create 4 worker processes in total. Our suggested max number of worker in current system is 2, which is smaller than what this DataLoader is going to create. Please be aware that excessive worker creation might get DataLoader running slow or even freeze, lower the worker number to avoid potential slowness/freeze if necessary.\n",
            "  cpuset_checked))\n"
          ]
        },
        {
          "output_type": "stream",
          "name": "stdout",
          "text": [
            "총 batch의 수 : 97\n",
            "\n",
            "첫 번째 batch의 shape : torch.Size([256, 3, 64, 64])\n",
            "\n",
            "첫 번째 batch의 label (중간생략) : tensor([26, 17,  8, 30, 29, 30, 17, 23,  1, 27])\n"
          ]
        }
      ],
      "source": [
        "first_batch = train_loader.__iter__().__next__()\n",
        "\n",
        "print(\"총 batch의 수 :\",len(train_loader), end=\"\\n\\n\")\n",
        "print(\"첫 번째 batch의 shape :\", first_batch[0].shape, end=\"\\n\\n\")\n",
        "print(\"첫 번째 batch의 label (중간생략) :\",first_batch[1][:10])"
      ]
    },
    {
      "cell_type": "markdown",
      "id": "a08eb47d",
      "metadata": {
        "id": "a08eb47d"
      },
      "source": [
        "### 2-3. 베이스라인 모델 설계"
      ]
    },
    {
      "cell_type": "code",
      "execution_count": 89,
      "id": "fbf380ad",
      "metadata": {
        "id": "fbf380ad"
      },
      "outputs": [],
      "source": [
        "import torch.nn as nn\n",
        "import torch.nn.functional as F\n",
        "import torch.optim as optim\n",
        " \n",
        "class Net(nn.Module): \n",
        "  \n",
        "    def __init__(self): \n",
        "    \n",
        "        super(Net, self).__init__() \n",
        "\n",
        "        self.conv1 = nn.Conv2d(3, 32, 3, padding=1) \n",
        "        self.pool = nn.MaxPool2d(2,2)  \n",
        "        self.conv2 = nn.Conv2d(32, 64, 3, padding=1)  \n",
        "        self.conv3 = nn.Conv2d(64, 64, 3, padding=1)  \n",
        "\n",
        "        self.fc1 = nn.Linear(4096, 512) \n",
        "        self.fc2 = nn.Linear(512, 33) \n",
        "    \n",
        "    def forward(self, x):  \n",
        "    \n",
        "        x = self.conv1(x)\n",
        "        x = F.relu(x)  \n",
        "        x = self.pool(x) \n",
        "        x = F.dropout(x, p=0.25, training=self.training) \n",
        "\n",
        "        x = self.conv2(x)\n",
        "        x = F.relu(x) \n",
        "        x = self.pool(x) \n",
        "        x = F.dropout(x, p=0.25, training=self.training)\n",
        "\n",
        "        x = self.conv3(x) \n",
        "        x = F.relu(x) \n",
        "        x = self.pool(x) \n",
        "        x = F.dropout(x, p=0.25, training=self.training)\n",
        "\n",
        "        x = x.view(-1, 4096)  \n",
        "        x = self.fc1(x) \n",
        "        x = F.relu(x) \n",
        "        x = F.dropout(x, p=0.5, training=self.training)\n",
        "        x = self.fc2(x) \n",
        "\n",
        "        return F.log_softmax(x, dim=1)  \n",
        "\n",
        "model_base = Net().to(DEVICE)  \n",
        "optimizer = optim.Adam(model_base.parameters(), lr=0.001) "
      ]
    },
    {
      "cell_type": "markdown",
      "id": "eeb03a06",
      "metadata": {
        "id": "eeb03a06"
      },
      "source": [
        "### 2-4. 모델 학습을 위한 함수"
      ]
    },
    {
      "cell_type": "code",
      "execution_count": 90,
      "id": "cf4b86f3",
      "metadata": {
        "id": "cf4b86f3"
      },
      "outputs": [],
      "source": [
        "def train(model, train_loader, optimizer):\n",
        "    model.train()  \n",
        "    for batch_idx, (data, target) in enumerate(train_loader):\n",
        "        data, target = data.to(DEVICE), target.to(DEVICE) \n",
        "        optimizer.zero_grad() \n",
        "        output = model(data)  \n",
        "        loss = F.cross_entropy(output, target) \n",
        "        loss.backward()  \n",
        "        optimizer.step()  "
      ]
    },
    {
      "cell_type": "markdown",
      "id": "080d3913",
      "metadata": {
        "id": "080d3913"
      },
      "source": [
        "### 2-5. 모델 평가를 위한 함수"
      ]
    },
    {
      "cell_type": "code",
      "execution_count": 91,
      "id": "491d6532",
      "metadata": {
        "id": "491d6532"
      },
      "outputs": [],
      "source": [
        "def evaluate(model, test_loader):\n",
        "    model.eval()  \n",
        "    test_loss = 0 \n",
        "    correct = 0   \n",
        "    \n",
        "    with torch.no_grad(): \n",
        "        for data, target in test_loader:  \n",
        "            data, target = data.to(DEVICE), target.to(DEVICE)  \n",
        "            output = model(data) \n",
        "            \n",
        "            test_loss += F.cross_entropy(output,target, reduction='sum').item() \n",
        " \n",
        "            \n",
        "            pred = output.max(1, keepdim=True)[1]\n",
        "            correct += pred.eq(target.view_as(pred)).sum().item() \n",
        "   \n",
        "    test_loss /= len(test_loader.dataset) \n",
        "    test_accuracy = 100. * correct / len(test_loader.dataset) \n",
        "    return test_loss, test_accuracy  "
      ]
    },
    {
      "cell_type": "markdown",
      "id": "8d2e7198",
      "metadata": {
        "id": "8d2e7198"
      },
      "source": [
        "### 2-6. 모델 학습"
      ]
    },
    {
      "cell_type": "code",
      "source": [
        "import time\n",
        "import copy\n",
        " \n",
        "def train_baseline(model ,train_loader, val_loader, optimizer, num_epochs = 30):\n",
        "    best_acc = 0.0  \n",
        "    best_model_wts = copy.deepcopy(model.state_dict()) \n",
        " \n",
        "    for epoch in range(1, num_epochs + 1):\n",
        "        since = time.time()  \n",
        "        train(model, train_loader, optimizer)\n",
        "        train_loss, train_acc = evaluate(model, train_loader) \n",
        "        val_loss, val_acc = evaluate(model, val_loader)\n",
        "        \n",
        "        if val_acc > best_acc: \n",
        "            best_acc = val_acc \n",
        "            best_model_wts = copy.deepcopy(model.state_dict())\n",
        "        \n",
        "        time_elapsed = time.time() - since \n",
        "        print('-------------- epoch {} ----------------'.format(epoch))\n",
        "        print('train Loss: {:.4f}, Accuracy: {:.2f}%'.format(train_loss, train_acc))   \n",
        "        print('val Loss: {:.4f}, Accuracy: {:.2f}%'.format(val_loss, val_acc))\n",
        "        print('Completed in {:.0f}m {:.0f}s'.format(time_elapsed // 60, time_elapsed % 60)) \n",
        "    model.load_state_dict(best_model_wts)  \n",
        "    return model"
      ],
      "metadata": {
        "id": "m3RGc5Iu4Na6"
      },
      "id": "m3RGc5Iu4Na6",
      "execution_count": 92,
      "outputs": []
    },
    {
      "cell_type": "code",
      "execution_count": null,
      "id": "e9ceaddb",
      "metadata": {
        "id": "e9ceaddb",
        "outputId": "47debecd-f83c-4e8b-b1eb-705b0d6b820b"
      },
      "outputs": [
        {
          "name": "stdout",
          "output_type": "stream",
          "text": [
            "-------------- epoch 1 ----------------\n",
            "train Loss: 1.6946, Accuracy: 53.35%\n",
            "val Loss: 1.7151, Accuracy: 52.90%\n",
            "Completed in 5m 59s\n",
            "-------------- epoch 2 ----------------\n",
            "train Loss: 1.0632, Accuracy: 68.19%\n",
            "val Loss: 1.1031, Accuracy: 67.37%\n",
            "Completed in 5m 18s\n",
            "-------------- epoch 3 ----------------\n",
            "train Loss: 0.8229, Accuracy: 74.47%\n",
            "val Loss: 0.8802, Accuracy: 72.22%\n",
            "Completed in 4m 40s\n",
            "-------------- epoch 4 ----------------\n",
            "train Loss: 0.6074, Accuracy: 81.27%\n",
            "val Loss: 0.6709, Accuracy: 79.06%\n",
            "Completed in 4m 35s\n",
            "-------------- epoch 5 ----------------\n",
            "train Loss: 0.5588, Accuracy: 82.38%\n",
            "val Loss: 0.6239, Accuracy: 80.01%\n",
            "Completed in 4m 34s\n",
            "-------------- epoch 6 ----------------\n",
            "train Loss: 0.5168, Accuracy: 83.94%\n",
            "val Loss: 0.5892, Accuracy: 81.09%\n",
            "Completed in 4m 35s\n",
            "-------------- epoch 7 ----------------\n",
            "train Loss: 0.4386, Accuracy: 86.25%\n",
            "val Loss: 0.5183, Accuracy: 83.20%\n",
            "Completed in 4m 33s\n",
            "-------------- epoch 8 ----------------\n",
            "train Loss: 0.3643, Accuracy: 88.86%\n",
            "val Loss: 0.4517, Accuracy: 85.97%\n",
            "Completed in 4m 36s\n",
            "-------------- epoch 9 ----------------\n",
            "train Loss: 0.2800, Accuracy: 91.48%\n",
            "val Loss: 0.3784, Accuracy: 88.03%\n",
            "Completed in 4m 33s\n",
            "-------------- epoch 10 ----------------\n",
            "train Loss: 0.3009, Accuracy: 90.50%\n",
            "val Loss: 0.4106, Accuracy: 86.54%\n",
            "Completed in 4m 37s\n",
            "-------------- epoch 11 ----------------\n",
            "train Loss: 0.3000, Accuracy: 90.95%\n",
            "val Loss: 0.4110, Accuracy: 86.91%\n",
            "Completed in 4m 36s\n",
            "-------------- epoch 12 ----------------\n",
            "train Loss: 0.2657, Accuracy: 91.93%\n",
            "val Loss: 0.3772, Accuracy: 88.10%\n",
            "Completed in 4m 34s\n",
            "-------------- epoch 13 ----------------\n",
            "train Loss: 0.2185, Accuracy: 93.26%\n",
            "val Loss: 0.3346, Accuracy: 89.15%\n",
            "Completed in 4m 32s\n",
            "-------------- epoch 14 ----------------\n",
            "train Loss: 0.1957, Accuracy: 94.47%\n",
            "val Loss: 0.3168, Accuracy: 89.52%\n",
            "Completed in 4m 38s\n",
            "-------------- epoch 15 ----------------\n",
            "train Loss: 0.1683, Accuracy: 95.39%\n",
            "val Loss: 0.2879, Accuracy: 90.93%\n",
            "Completed in 4m 46s\n",
            "-------------- epoch 16 ----------------\n",
            "train Loss: 0.1720, Accuracy: 94.67%\n",
            "val Loss: 0.3009, Accuracy: 90.29%\n",
            "Completed in 6m 40s\n",
            "-------------- epoch 17 ----------------\n",
            "train Loss: 0.1563, Accuracy: 95.47%\n",
            "val Loss: 0.2910, Accuracy: 90.57%\n",
            "Completed in 6m 12s\n",
            "-------------- epoch 18 ----------------\n",
            "train Loss: 0.1404, Accuracy: 96.07%\n",
            "val Loss: 0.2760, Accuracy: 91.19%\n",
            "Completed in 5m 57s\n",
            "-------------- epoch 19 ----------------\n",
            "train Loss: 0.1267, Accuracy: 96.56%\n",
            "val Loss: 0.2647, Accuracy: 91.64%\n",
            "Completed in 6m 2s\n",
            "-------------- epoch 20 ----------------\n",
            "train Loss: 0.1228, Accuracy: 96.51%\n",
            "val Loss: 0.2637, Accuracy: 91.40%\n",
            "Completed in 5m 42s\n",
            "-------------- epoch 21 ----------------\n",
            "train Loss: 0.1339, Accuracy: 96.04%\n",
            "val Loss: 0.2850, Accuracy: 90.96%\n",
            "Completed in 5m 50s\n",
            "-------------- epoch 22 ----------------\n",
            "train Loss: 0.1019, Accuracy: 97.29%\n",
            "val Loss: 0.2493, Accuracy: 91.64%\n",
            "Completed in 5m 50s\n",
            "-------------- epoch 23 ----------------\n",
            "train Loss: 0.1050, Accuracy: 97.19%\n",
            "val Loss: 0.2614, Accuracy: 91.46%\n",
            "Completed in 6m 8s\n",
            "-------------- epoch 24 ----------------\n",
            "train Loss: 0.0936, Accuracy: 97.55%\n",
            "val Loss: 0.2533, Accuracy: 91.88%\n",
            "Completed in 5m 58s\n",
            "-------------- epoch 25 ----------------\n",
            "train Loss: 0.1004, Accuracy: 96.84%\n",
            "val Loss: 0.2569, Accuracy: 91.63%\n",
            "Completed in 5m 49s\n",
            "-------------- epoch 26 ----------------\n",
            "train Loss: 0.0842, Accuracy: 97.65%\n",
            "val Loss: 0.2448, Accuracy: 92.15%\n",
            "Completed in 6m 20s\n",
            "-------------- epoch 27 ----------------\n",
            "train Loss: 0.1053, Accuracy: 96.87%\n",
            "val Loss: 0.2877, Accuracy: 90.87%\n",
            "Completed in 6m 2s\n",
            "-------------- epoch 28 ----------------\n",
            "train Loss: 0.0842, Accuracy: 97.76%\n",
            "val Loss: 0.2504, Accuracy: 92.08%\n",
            "Completed in 6m 24s\n",
            "-------------- epoch 29 ----------------\n",
            "train Loss: 0.0645, Accuracy: 98.43%\n",
            "val Loss: 0.2199, Accuracy: 93.08%\n",
            "Completed in 5m 57s\n",
            "-------------- epoch 30 ----------------\n",
            "train Loss: 0.0845, Accuracy: 97.58%\n",
            "val Loss: 0.2538, Accuracy: 91.95%\n",
            "Completed in 5m 53s\n"
          ]
        }
      ],
      "source": [
        "base = train_baseline(model_base, train_loader, val_loader, optimizer, EPOCH)  \t #(16)\n",
        "torch.save(base,'baseline.pt')"
      ]
    },
    {
      "cell_type": "markdown",
      "source": [
        "## 3. Transfer Learning 모델 학습"
      ],
      "metadata": {
        "id": "mdUQoI2YHDWa"
      },
      "id": "mdUQoI2YHDWa"
    },
    {
      "cell_type": "markdown",
      "source": [
        "### 3-1. Transfer Learning을 위한 준비"
      ],
      "metadata": {
        "id": "KRKgA0tOHNkp"
      },
      "id": "KRKgA0tOHNkp"
    },
    {
      "cell_type": "code",
      "source": [
        "# colab에서 사용시\n",
        "\n",
        "from google.colab import drive\n",
        "drive.mount('/content/drive')\n",
        "\n",
        "working_dir = \"/content/drive/MyDrive/04_작물_잎_질병/\""
      ],
      "metadata": {
        "colab": {
          "base_uri": "https://localhost:8080/"
        },
        "id": "kkMe-HPphbyc",
        "outputId": "b29f2cfb-712a-42e0-a2e1-1f16ac1e920d"
      },
      "id": "kkMe-HPphbyc",
      "execution_count": 5,
      "outputs": [
        {
          "output_type": "stream",
          "name": "stdout",
          "text": [
            "Mounted at /content/drive\n"
          ]
        }
      ]
    },
    {
      "cell_type": "code",
      "source": [
        "import torch\n",
        "import os\n",
        " \n",
        "USE_CUDA = torch.cuda.is_available()\n",
        "DEVICE = torch.device(\"cuda\" if USE_CUDA else \"cpu\")\n",
        "\n",
        "# 하이퍼 파라미터 정의\n",
        "BATCH_SIZE = 256 \n",
        "EPOCH = 30 "
      ],
      "metadata": {
        "id": "uas3oA-7HYEJ"
      },
      "id": "uas3oA-7HYEJ",
      "execution_count": 93,
      "outputs": []
    },
    {
      "cell_type": "code",
      "source": [
        "import torchvision.transforms as transforms\n",
        "from torchvision.datasets import ImageFolder \n",
        "\n",
        "# transforms 정의(train과 val을 다르게 정의)\n",
        "data_transforms = {\n",
        "    'train': transforms.Compose([\n",
        "        transforms.Resize([64,64]), # 이미지 사이즈를 64*64로 조정\n",
        "\n",
        "        # 이미지 Augmentation\n",
        "        transforms.RandomHorizontalFlip(), # 이미지 좌우반전 (default) p = 0.5\n",
        "        transforms.RandomVerticalFlip(),  # 이미지 상하반전 (default) p = 0.5\n",
        "        transforms.RandomCrop(52), # 이미지의 랜덤한 부위를 잘라내어 52*52로 만듦\n",
        "        transforms.ToTensor(), \n",
        "        transforms.Normalize([0.485, 0.456, 0.406],\n",
        "                             [0.229, 0.224, 0.225]) # 정규화를 진행할 ImageNet의 평균과 표편\n",
        "        ]),\n",
        "    \n",
        "    'val': transforms.Compose([\n",
        "        transforms.Resize([64,64]),  \n",
        "        transforms.RandomCrop(52), transforms.ToTensor(),\n",
        "        transforms.Normalize(\n",
        "            [0.485, 0.456, 0.406],\n",
        "            [0.229, 0.224, 0.225]) \n",
        "        ])\n",
        "}"
      ],
      "metadata": {
        "id": "_wnQFjLkHUnp"
      },
      "id": "_wnQFjLkHUnp",
      "execution_count": 94,
      "outputs": []
    },
    {
      "cell_type": "code",
      "source": [
        "data_dir = working_dir + 'splitted'\n",
        "\n",
        "# ImageFolder를 사용하여 이미지 불러오기\n",
        "image_datasets = {x: ImageFolder(root=os.path.join(data_dir, x), transform=data_transforms[x]) for x in ['train', 'val']} \n",
        "\n",
        "# 미니 Batch 구성\n",
        "dataloaders = {x: torch.utils.data.DataLoader(image_datasets[x], batch_size=BATCH_SIZE, shuffle=True, num_workers=4) for x in ['train', 'val']} \n",
        "\n",
        "# 데이터셋 사이즈\n",
        "dataset_sizes = {x: len(image_datasets[x]) for x in ['train', 'val']}\n",
        "\n",
        "# 클래스명\n",
        "class_names = image_datasets['train'].classes"
      ],
      "metadata": {
        "colab": {
          "base_uri": "https://localhost:8080/"
        },
        "id": "xSdxyEsqCGv2",
        "outputId": "4d0ff9b5-6314-403e-83a3-c9e01e98c4b3"
      },
      "id": "xSdxyEsqCGv2",
      "execution_count": 95,
      "outputs": [
        {
          "output_type": "stream",
          "name": "stderr",
          "text": [
            "/usr/local/lib/python3.7/dist-packages/torch/utils/data/dataloader.py:560: UserWarning: This DataLoader will create 4 worker processes in total. Our suggested max number of worker in current system is 2, which is smaller than what this DataLoader is going to create. Please be aware that excessive worker creation might get DataLoader running slow or even freeze, lower the worker number to avoid potential slowness/freeze if necessary.\n",
            "  cpuset_checked))\n"
          ]
        }
      ]
    },
    {
      "cell_type": "markdown",
      "source": [
        "### 3-2. Pre-Trained Model 불러오기"
      ],
      "metadata": {
        "id": "6rwdcaCwCPvi"
      },
      "id": "6rwdcaCwCPvi"
    },
    {
      "cell_type": "code",
      "source": [
        "import torch.nn as nn\n",
        "import torch.nn.functional as F\n",
        "import torch.optim as optim\n",
        "from torchvision import models\n",
        " \n",
        "resnet = models.resnet50(pretrained=True)  # False로 설정시 모델의 구조만 가져오고 파라미터 값은 랜덤으로 설정\n",
        "print(resnet.fc) # 기존 resnet은 in 2048에 out 1000임\n",
        "\n",
        "num_ftrs = resnet.fc.in_features   \n",
        "resnet.fc = nn.Linear(num_ftrs, 33) \n",
        "resnet = resnet.to(DEVICE)\n",
        " \n",
        "criterion = nn.CrossEntropyLoss() \n",
        "optimizer_ft = optim.Adam(filter(lambda p: p.requires_grad, resnet.parameters()), lr=0.001)\n",
        " \n",
        "from torch.optim import lr_scheduler\n",
        "# 7 epoch마다 학습률에 0.1씩을 곱해줌\n",
        "exp_lr_scheduler = lr_scheduler.StepLR(optimizer_ft, step_size=7, gamma=0.1) "
      ],
      "metadata": {
        "colab": {
          "base_uri": "https://localhost:8080/"
        },
        "id": "tUyKUmDICW8K",
        "outputId": "78141482-a4b9-4a4a-9c24-e2c856dacf9b"
      },
      "id": "tUyKUmDICW8K",
      "execution_count": 96,
      "outputs": [
        {
          "output_type": "stream",
          "name": "stderr",
          "text": [
            "/usr/local/lib/python3.7/dist-packages/torchvision/models/_utils.py:209: UserWarning: The parameter 'pretrained' is deprecated since 0.13 and will be removed in 0.15, please use 'weights' instead.\n",
            "  f\"The parameter '{pretrained_param}' is deprecated since 0.13 and will be removed in 0.15, \"\n",
            "/usr/local/lib/python3.7/dist-packages/torchvision/models/_utils.py:223: UserWarning: Arguments other than a weight enum or `None` for 'weights' are deprecated since 0.13 and will be removed in 0.15. The current behavior is equivalent to passing `weights=ResNet50_Weights.IMAGENET1K_V1`. You can also use `weights=ResNet50_Weights.DEFAULT` to get the most up-to-date weights.\n",
            "  warnings.warn(msg)\n"
          ]
        },
        {
          "output_type": "stream",
          "name": "stdout",
          "text": [
            "Linear(in_features=2048, out_features=1000, bias=True)\n"
          ]
        }
      ]
    },
    {
      "cell_type": "markdown",
      "source": [
        "### 3-3. Pre-Trained Model의 일부 Layer Freeze하기"
      ],
      "metadata": {
        "id": "p6VmDfp8CXqY"
      },
      "id": "p6VmDfp8CXqY"
    },
    {
      "cell_type": "code",
      "source": [
        "cnt = 0\n",
        "for c in resnet.children():\n",
        "  cnt += 1\n",
        "\n",
        "print(cnt)"
      ],
      "metadata": {
        "colab": {
          "base_uri": "https://localhost:8080/"
        },
        "id": "uUTHgRaKly-K",
        "outputId": "c5991096-c66b-49af-84ea-41eaf8abebec"
      },
      "id": "uUTHgRaKly-K",
      "execution_count": 62,
      "outputs": [
        {
          "output_type": "stream",
          "name": "stdout",
          "text": [
            "10\n"
          ]
        }
      ]
    },
    {
      "cell_type": "code",
      "source": [
        "ct = 0 \n",
        "for child in resnet.children():  \n",
        "    ct += 1  \n",
        "    if ct < 6: \n",
        "        for param in child.parameters():\n",
        "            param.requires_grad = False"
      ],
      "metadata": {
        "id": "eXeSKSWcCj9r"
      },
      "id": "eXeSKSWcCj9r",
      "execution_count": 97,
      "outputs": []
    },
    {
      "cell_type": "markdown",
      "source": [
        "### 3-4. Transfer Learning 모델 학습과 검증을 위한 함수"
      ],
      "metadata": {
        "id": "Fx4fGDVlCmel"
      },
      "id": "Fx4fGDVlCmel"
    },
    {
      "cell_type": "code",
      "source": [
        "import time\n",
        "import copy\n",
        "\n",
        "def train_resnet(model, criterion, optimizer, scheduler, num_epochs=25):\n",
        "\n",
        "    best_model_wts = copy.deepcopy(model.state_dict())  \n",
        "    best_acc = 0.0  \n",
        "    \n",
        "    for epoch in range(num_epochs):\n",
        "        print('-------------- epoch {} ----------------'.format(epoch+1)) \n",
        "        since = time.time()                                     \n",
        "        for phase in ['train', 'val']: \n",
        "            if phase == 'train': \n",
        "                model.train() \n",
        "            else:\n",
        "                model.eval()     \n",
        " \n",
        "            running_loss = 0.0  \n",
        "            running_corrects = 0  \n",
        " \n",
        "            \n",
        "            for inputs, labels in dataloaders[phase]: \n",
        "                inputs = inputs.to(DEVICE)  \n",
        "                labels = labels.to(DEVICE)  \n",
        "                \n",
        "                optimizer.zero_grad() \n",
        "                \n",
        "                with torch.set_grad_enabled(phase == 'train'):  \n",
        "                    outputs = model(inputs)  \n",
        "                    _, preds = torch.max(outputs, 1) \n",
        "                    loss = criterion(outputs, labels)  \n",
        "    \n",
        "                    if phase == 'train':   \n",
        "                        loss.backward()\n",
        "                        optimizer.step()\n",
        " \n",
        "                running_loss += loss.item() * inputs.size(0)  \n",
        "                running_corrects += torch.sum(preds == labels.data)  \n",
        "            if phase == 'train':  \n",
        "                scheduler.step()\n",
        " \n",
        "            epoch_loss = running_loss/dataset_sizes[phase]  \n",
        "            epoch_acc = running_corrects.double()/dataset_sizes[phase]  \n",
        " \n",
        "            print('{} Loss: {:.4f} Acc: {:.4f}'.format(phase, epoch_loss, epoch_acc)) \n",
        " \n",
        "          \n",
        "            if phase == 'val' and epoch_acc > best_acc: \n",
        "                best_acc = epoch_acc\n",
        "                best_model_wts = copy.deepcopy(model.state_dict())\n",
        " \n",
        "        time_elapsed = time.time() - since  \n",
        "        print('Completed in {:.0f}m {:.0f}s'.format(time_elapsed // 60, time_elapsed % 60))\n",
        "    print('Best val Acc: {:4f}'.format(best_acc))\n",
        " \n",
        "    model.load_state_dict(best_model_wts) \n",
        "\n",
        "    return model"
      ],
      "metadata": {
        "id": "JUtd3fXBCpi2"
      },
      "id": "JUtd3fXBCpi2",
      "execution_count": 98,
      "outputs": []
    },
    {
      "cell_type": "markdown",
      "source": [
        "### 3-5. 모델 학습을 실행하기"
      ],
      "metadata": {
        "id": "sL3eq1vUCuWG"
      },
      "id": "sL3eq1vUCuWG"
    },
    {
      "cell_type": "code",
      "source": [
        "model_resnet50 = train_resnet(resnet, criterion, optimizer_ft, exp_lr_scheduler, num_epochs=EPOCH) \n",
        "\n",
        "torch.save(model_resnet50, 'resnet50.pt')"
      ],
      "metadata": {
        "colab": {
          "base_uri": "https://localhost:8080/"
        },
        "id": "kbVUb957Cx28",
        "outputId": "448f8118-dad9-46d9-a7bd-cad00d57f40d"
      },
      "id": "kbVUb957Cx28",
      "execution_count": 70,
      "outputs": [
        {
          "output_type": "stream",
          "name": "stdout",
          "text": [
            "-------------- epoch 1 ----------------\n"
          ]
        },
        {
          "output_type": "stream",
          "name": "stderr",
          "text": [
            "/usr/local/lib/python3.7/dist-packages/torch/utils/data/dataloader.py:560: UserWarning: This DataLoader will create 4 worker processes in total. Our suggested max number of worker in current system is 2, which is smaller than what this DataLoader is going to create. Please be aware that excessive worker creation might get DataLoader running slow or even freeze, lower the worker number to avoid potential slowness/freeze if necessary.\n",
            "  cpuset_checked))\n"
          ]
        },
        {
          "output_type": "stream",
          "name": "stdout",
          "text": [
            "train Loss: 0.5778 Acc: 0.8258\n",
            "val Loss: 0.3665 Acc: 0.8908\n",
            "Completed in 27m 41s\n",
            "-------------- epoch 2 ----------------\n",
            "train Loss: 0.2227 Acc: 0.9279\n",
            "val Loss: 0.1775 Acc: 0.9440\n",
            "Completed in 1m 16s\n",
            "-------------- epoch 3 ----------------\n",
            "train Loss: 0.1697 Acc: 0.9451\n",
            "val Loss: 0.2108 Acc: 0.9358\n",
            "Completed in 1m 16s\n",
            "-------------- epoch 4 ----------------\n",
            "train Loss: 0.1292 Acc: 0.9572\n",
            "val Loss: 0.1647 Acc: 0.9480\n",
            "Completed in 1m 16s\n",
            "-------------- epoch 5 ----------------\n",
            "train Loss: 0.1087 Acc: 0.9639\n",
            "val Loss: 0.1605 Acc: 0.9486\n",
            "Completed in 1m 14s\n",
            "-------------- epoch 6 ----------------\n",
            "train Loss: 0.0973 Acc: 0.9680\n",
            "val Loss: 0.0959 Acc: 0.9694\n",
            "Completed in 1m 16s\n",
            "-------------- epoch 7 ----------------\n",
            "train Loss: 0.0854 Acc: 0.9721\n",
            "val Loss: 0.1005 Acc: 0.9654\n",
            "Completed in 1m 16s\n",
            "-------------- epoch 8 ----------------\n",
            "train Loss: 0.0416 Acc: 0.9855\n",
            "val Loss: 0.0517 Acc: 0.9844\n",
            "Completed in 1m 15s\n",
            "-------------- epoch 9 ----------------\n",
            "train Loss: 0.0286 Acc: 0.9906\n",
            "val Loss: 0.0461 Acc: 0.9843\n",
            "Completed in 1m 14s\n",
            "-------------- epoch 10 ----------------\n",
            "train Loss: 0.0252 Acc: 0.9918\n",
            "val Loss: 0.0417 Acc: 0.9861\n",
            "Completed in 1m 16s\n",
            "-------------- epoch 11 ----------------\n",
            "train Loss: 0.0192 Acc: 0.9940\n",
            "val Loss: 0.0382 Acc: 0.9873\n",
            "Completed in 1m 14s\n",
            "-------------- epoch 12 ----------------\n",
            "train Loss: 0.0197 Acc: 0.9934\n",
            "val Loss: 0.0373 Acc: 0.9882\n",
            "Completed in 1m 14s\n",
            "-------------- epoch 13 ----------------\n",
            "train Loss: 0.0154 Acc: 0.9948\n",
            "val Loss: 0.0379 Acc: 0.9873\n",
            "Completed in 1m 14s\n",
            "-------------- epoch 14 ----------------\n",
            "train Loss: 0.0154 Acc: 0.9949\n",
            "val Loss: 0.0366 Acc: 0.9879\n",
            "Completed in 1m 14s\n",
            "-------------- epoch 15 ----------------\n",
            "train Loss: 0.0136 Acc: 0.9956\n",
            "val Loss: 0.0337 Acc: 0.9887\n",
            "Completed in 1m 14s\n",
            "-------------- epoch 16 ----------------\n",
            "train Loss: 0.0135 Acc: 0.9954\n",
            "val Loss: 0.0346 Acc: 0.9878\n",
            "Completed in 1m 14s\n",
            "-------------- epoch 17 ----------------\n",
            "train Loss: 0.0132 Acc: 0.9958\n",
            "val Loss: 0.0383 Acc: 0.9881\n",
            "Completed in 1m 14s\n",
            "-------------- epoch 18 ----------------\n",
            "train Loss: 0.0130 Acc: 0.9957\n",
            "val Loss: 0.0347 Acc: 0.9882\n",
            "Completed in 1m 14s\n",
            "-------------- epoch 19 ----------------\n",
            "train Loss: 0.0113 Acc: 0.9966\n",
            "val Loss: 0.0344 Acc: 0.9892\n",
            "Completed in 1m 14s\n",
            "-------------- epoch 20 ----------------\n",
            "train Loss: 0.0125 Acc: 0.9962\n",
            "val Loss: 0.0332 Acc: 0.9891\n",
            "Completed in 1m 14s\n",
            "-------------- epoch 21 ----------------\n",
            "train Loss: 0.0114 Acc: 0.9963\n",
            "val Loss: 0.0306 Acc: 0.9900\n",
            "Completed in 1m 14s\n",
            "-------------- epoch 22 ----------------\n",
            "train Loss: 0.0113 Acc: 0.9964\n",
            "val Loss: 0.0337 Acc: 0.9884\n",
            "Completed in 1m 14s\n",
            "-------------- epoch 23 ----------------\n",
            "train Loss: 0.0115 Acc: 0.9963\n",
            "val Loss: 0.0340 Acc: 0.9882\n",
            "Completed in 1m 14s\n",
            "-------------- epoch 24 ----------------\n",
            "train Loss: 0.0120 Acc: 0.9963\n",
            "val Loss: 0.0316 Acc: 0.9897\n",
            "Completed in 1m 14s\n",
            "-------------- epoch 25 ----------------\n",
            "train Loss: 0.0109 Acc: 0.9966\n",
            "val Loss: 0.0311 Acc: 0.9900\n",
            "Completed in 1m 13s\n",
            "-------------- epoch 26 ----------------\n",
            "train Loss: 0.0107 Acc: 0.9964\n",
            "val Loss: 0.0316 Acc: 0.9900\n",
            "Completed in 1m 14s\n",
            "-------------- epoch 27 ----------------\n",
            "train Loss: 0.0109 Acc: 0.9969\n",
            "val Loss: 0.0345 Acc: 0.9890\n",
            "Completed in 1m 13s\n",
            "-------------- epoch 28 ----------------\n",
            "train Loss: 0.0119 Acc: 0.9964\n",
            "val Loss: 0.0316 Acc: 0.9888\n",
            "Completed in 1m 13s\n",
            "-------------- epoch 29 ----------------\n",
            "train Loss: 0.0114 Acc: 0.9961\n",
            "val Loss: 0.0322 Acc: 0.9897\n",
            "Completed in 1m 13s\n",
            "-------------- epoch 30 ----------------\n",
            "train Loss: 0.0115 Acc: 0.9965\n",
            "val Loss: 0.0292 Acc: 0.9903\n",
            "Completed in 1m 14s\n",
            "Best val Acc: 0.990278\n"
          ]
        }
      ]
    },
    {
      "cell_type": "markdown",
      "source": [
        "## 4. 모델 평가"
      ],
      "metadata": {
        "id": "-f-RzgQcC-1E"
      },
      "id": "-f-RzgQcC-1E"
    },
    {
      "cell_type": "code",
      "source": [
        "# colab에서 사용시\n",
        "\n",
        "from google.colab import drive\n",
        "drive.mount('/content/drive')\n",
        "\n",
        "working_dir = \"/content/drive/MyDrive/04_작물_잎_질병/\""
      ],
      "metadata": {
        "colab": {
          "base_uri": "https://localhost:8080/"
        },
        "id": "PbtoGmxrn-LS",
        "outputId": "799cc310-9b67-4c9c-a460-b3be1dd2d797"
      },
      "id": "PbtoGmxrn-LS",
      "execution_count": 99,
      "outputs": [
        {
          "output_type": "stream",
          "name": "stdout",
          "text": [
            "Drive already mounted at /content/drive; to attempt to forcibly remount, call drive.mount(\"/content/drive\", force_remount=True).\n"
          ]
        }
      ]
    },
    {
      "cell_type": "markdown",
      "source": [
        "### 4-1. 베이스라인 모델 평가를 위한 전처리"
      ],
      "metadata": {
        "id": "EpZozZ0_DAto"
      },
      "id": "EpZozZ0_DAto"
    },
    {
      "cell_type": "code",
      "source": [
        "# transforms 정의\n",
        "transform_base = transforms.Compose([transforms.Resize([64,64]),transforms.ToTensor()])\n",
        "\n",
        "# 데이터 불러오기\n",
        "test_base = ImageFolder(root=working_dir + 'splitted/test',transform=transform_base)  \n",
        "\n",
        "# 미니배치 구성\n",
        "test_loader_base = torch.utils.data.DataLoader(test_base, batch_size=BATCH_SIZE, shuffle=True, num_workers=4)"
      ],
      "metadata": {
        "colab": {
          "base_uri": "https://localhost:8080/"
        },
        "id": "Y0HVPD2iDQ0B",
        "outputId": "29eeb6bb-e5f1-4650-8278-f680cd9925ee"
      },
      "id": "Y0HVPD2iDQ0B",
      "execution_count": 100,
      "outputs": [
        {
          "output_type": "stream",
          "name": "stderr",
          "text": [
            "/usr/local/lib/python3.7/dist-packages/torch/utils/data/dataloader.py:560: UserWarning: This DataLoader will create 4 worker processes in total. Our suggested max number of worker in current system is 2, which is smaller than what this DataLoader is going to create. Please be aware that excessive worker creation might get DataLoader running slow or even freeze, lower the worker number to avoid potential slowness/freeze if necessary.\n",
            "  cpuset_checked))\n"
          ]
        }
      ]
    },
    {
      "cell_type": "markdown",
      "source": [
        "### 4-2. Transfer Learning 모델 평가를 위한 전처리"
      ],
      "metadata": {
        "id": "IIy55RauDFjx"
      },
      "id": "IIy55RauDFjx"
    },
    {
      "cell_type": "code",
      "source": [
        "# transforms 정의\n",
        "transform_resNet = transforms.Compose([\n",
        "        transforms.Resize([64,64]),  \n",
        "        transforms.RandomCrop(52),  \n",
        "        transforms.ToTensor(),\n",
        "        transforms.Normalize([0.485, 0.456, 0.406], [0.229, 0.224, 0.225]) \n",
        "    ])\n",
        "\n",
        "# 데이터 불러오기    \n",
        "test_resNet = ImageFolder(root=working_dir + 'splitted/test', transform=transform_resNet) \n",
        "\n",
        "# 미니배치 구성\n",
        "test_loader_resNet = torch.utils.data.DataLoader(test_resNet, batch_size=BATCH_SIZE, shuffle=True, num_workers=4)"
      ],
      "metadata": {
        "colab": {
          "base_uri": "https://localhost:8080/"
        },
        "id": "Y8fiJ-6BDRXx",
        "outputId": "6db126ca-3338-404b-ef96-58e0fdc084d8"
      },
      "id": "Y8fiJ-6BDRXx",
      "execution_count": 101,
      "outputs": [
        {
          "output_type": "stream",
          "name": "stderr",
          "text": [
            "/usr/local/lib/python3.7/dist-packages/torch/utils/data/dataloader.py:560: UserWarning: This DataLoader will create 4 worker processes in total. Our suggested max number of worker in current system is 2, which is smaller than what this DataLoader is going to create. Please be aware that excessive worker creation might get DataLoader running slow or even freeze, lower the worker number to avoid potential slowness/freeze if necessary.\n",
            "  cpuset_checked))\n"
          ]
        }
      ]
    },
    {
      "cell_type": "markdown",
      "source": [
        "### 4-3. 베이스 라인 모델 평가"
      ],
      "metadata": {
        "id": "RUWVs4MDDKZp"
      },
      "id": "RUWVs4MDDKZp"
    },
    {
      "cell_type": "code",
      "source": [
        "DEVICE = torch.device(\"cpu\")"
      ],
      "metadata": {
        "id": "wGA1Zkof57gf"
      },
      "id": "wGA1Zkof57gf",
      "execution_count": 104,
      "outputs": []
    },
    {
      "cell_type": "code",
      "source": [
        "baseline = torch.load(working_dir + 'model/baseline.pt') \n",
        "baseline.eval()  \n",
        "test_loss, test_accuracy = evaluate(baseline, test_loader_base)\n",
        "\n",
        "print('baseline test acc:  ', test_accuracy)"
      ],
      "metadata": {
        "colab": {
          "base_uri": "https://localhost:8080/"
        },
        "id": "t6NEVBrWDSq3",
        "outputId": "ff78bc1f-6041-41c8-9899-c050895333a4"
      },
      "id": "t6NEVBrWDSq3",
      "execution_count": 105,
      "outputs": [
        {
          "output_type": "stream",
          "name": "stderr",
          "text": [
            "/usr/local/lib/python3.7/dist-packages/torch/utils/data/dataloader.py:560: UserWarning: This DataLoader will create 4 worker processes in total. Our suggested max number of worker in current system is 2, which is smaller than what this DataLoader is going to create. Please be aware that excessive worker creation might get DataLoader running slow or even freeze, lower the worker number to avoid potential slowness/freeze if necessary.\n",
            "  cpuset_checked))\n"
          ]
        },
        {
          "output_type": "stream",
          "name": "stdout",
          "text": [
            "baseline test acc:   96.52237354085604\n"
          ]
        }
      ]
    },
    {
      "cell_type": "markdown",
      "source": [
        "### 4-4. Transfer Learning 모델 평가"
      ],
      "metadata": {
        "id": "vA7HmqDFDMf_"
      },
      "id": "vA7HmqDFDMf_"
    },
    {
      "cell_type": "code",
      "source": [
        "DEVICE = torch.device(\"cuda\")"
      ],
      "metadata": {
        "id": "ZDZXmEgC52wt"
      },
      "id": "ZDZXmEgC52wt",
      "execution_count": null,
      "outputs": []
    },
    {
      "cell_type": "code",
      "execution_count": 103,
      "id": "920f9e32",
      "metadata": {
        "id": "920f9e32",
        "colab": {
          "base_uri": "https://localhost:8080/"
        },
        "outputId": "a2102be0-590d-4a51-d271-2acef2c8db39"
      },
      "outputs": [
        {
          "output_type": "stream",
          "name": "stderr",
          "text": [
            "/usr/local/lib/python3.7/dist-packages/torch/utils/data/dataloader.py:560: UserWarning: This DataLoader will create 4 worker processes in total. Our suggested max number of worker in current system is 2, which is smaller than what this DataLoader is going to create. Please be aware that excessive worker creation might get DataLoader running slow or even freeze, lower the worker number to avoid potential slowness/freeze if necessary.\n",
            "  cpuset_checked))\n"
          ]
        },
        {
          "output_type": "stream",
          "name": "stdout",
          "text": [
            "ResNet test acc:   98.88132295719845\n"
          ]
        }
      ],
      "source": [
        "resnet50=torch.load(working_dir + 'model/resnet50.pt') \n",
        "resnet50.eval()  \n",
        "test_loss, test_accuracy = evaluate(resnet50, test_loader_resNet)\n",
        "\n",
        "print('ResNet test acc:  ', test_accuracy)"
      ]
    }
  ],
  "metadata": {
    "kernelspec": {
      "display_name": "Python 3 (ipykernel)",
      "language": "python",
      "name": "python3"
    },
    "language_info": {
      "codemirror_mode": {
        "name": "ipython",
        "version": 3
      },
      "file_extension": ".py",
      "mimetype": "text/x-python",
      "name": "python",
      "nbconvert_exporter": "python",
      "pygments_lexer": "ipython3",
      "version": "3.9.12"
    },
    "colab": {
      "name": "04_Plant_Leaf_Disease.ipynb",
      "provenance": [],
      "collapsed_sections": [],
      "toc_visible": true
    },
    "gpuClass": "standard",
    "accelerator": "GPU"
  },
  "nbformat": 4,
  "nbformat_minor": 5
}